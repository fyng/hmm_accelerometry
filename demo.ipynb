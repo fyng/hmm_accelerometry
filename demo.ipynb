{
 "cells": [
  {
   "cell_type": "code",
   "execution_count": 1,
   "metadata": {},
   "outputs": [],
   "source": [
    "import os\n",
    "import numpy as np\n",
    "from sklearn.cluster import KMeans\n",
    "import matplotlib.pyplot as plt\n",
    "from hmm import HMM\n",
    "import re"
   ]
  },
  {
   "cell_type": "code",
   "execution_count": 5,
   "metadata": {},
   "outputs": [],
   "source": [
    "def extract_prefix(text, pattern):\n",
    "    match = re.match(pattern, text)\n",
    "    if match:\n",
    "        # If the first group (beat\\d+_) is matched, use it; otherwise, use the second group\n",
    "        prefix = match.group(1) if match.group(1) else match.group(2)\n",
    "        return prefix\n",
    "    \n",
    "    return None\n",
    "\n",
    "\n",
    "def quantization_model(data, n_clusters):\n",
    "    X_all = []\n",
    "    for v in data.values():\n",
    "        X_all.extend(v)\n",
    "    x_all = np.concatenate(X_all, axis=0)\n",
    "    x_all = x_all[:,1:] # remove time column\n",
    "    kmeans = KMeans(n_clusters=n_clusters, random_state=0, n_init=\"auto\").fit(x_all)\n",
    "\n",
    "    return kmeans\n",
    "\n",
    "def train_model(data, key, n_clusters, n_hidden_states, q_model):\n",
    "    X = np.concatenate(data[key], axis=0)\n",
    "    X = X[:,1:] # remove time column\n",
    "\n",
    "    y = q_model.predict(X)\n",
    "\n",
    "    model = HMM(n_hidden=n_hidden_states, n_obs=n_clusters, verbose=False)\n",
    "    loss = model.fit(y)\n",
    "    model.save(filepath=f'pretrained_models/hmm_{key}.json')\n",
    "\n",
    "    plt.plot(y)\n",
    "    plt.savefig(f'plots/quantized_{key}.png')\n",
    "    plt.clf()\n",
    "    \n",
    "    plt.plot(-np.array(loss))\n",
    "    plt.savefig(f'plots/logloss_{key}.png')\n",
    "    plt.clf()"
   ]
  },
  {
   "cell_type": "markdown",
   "metadata": {},
   "source": [
    "The data contains six different motions: Wave, Infinity, Eight, Circle, Beat3, Beat4"
   ]
  },
  {
   "cell_type": "code",
   "execution_count": 3,
   "metadata": {},
   "outputs": [],
   "source": [
    "data = {}\n",
    "train_dir = 'data/train'\n",
    "\n",
    "pattern = r\"^(beat\\d+)|([^\\d]+)\"\n",
    "\n",
    "files = os.listdir(train_dir)\n",
    "for fn in files:\n",
    "    type = extract_prefix(fn, pattern)\n",
    "    x = np.loadtxt(os.path.join(train_dir, fn))\n",
    "    if type not in data:\n",
    "        data[type] = [x]\n",
    "    else:\n",
    "        data[type].append(x)"
   ]
  },
  {
   "cell_type": "markdown",
   "metadata": {},
   "source": [
    "ts , Wx, Wy, Wz, Ax, Ay, Az\n",
    "(Time (millisecond), 3x Gyroscope (rad/sec), 3x Accelerometer (m/s2) )"
   ]
  },
  {
   "cell_type": "code",
   "execution_count": 6,
   "metadata": {},
   "outputs": [
    {
     "data": {
      "text/plain": [
       "<Figure size 640x480 with 0 Axes>"
      ]
     },
     "metadata": {},
     "output_type": "display_data"
    }
   ],
   "source": [
    "# train models\n",
    "n_clusters = 50\n",
    "n_hidden_states = 10\n",
    "\n",
    "q_model = quantization_model(data, n_clusters)\n",
    "\n",
    "for key in data.keys():\n",
    "    train_model(data, key, n_clusters, n_hidden_states, q_model)"
   ]
  },
  {
   "cell_type": "code",
   "execution_count": 7,
   "metadata": {},
   "outputs": [],
   "source": [
    "test_dir = 'data/val'\n",
    "model_path = 'pretrained_models/'\n",
    "model_name = ['hmm_beat3', 'hmm_beat4', 'hmm_circle', 'hmm_eight', 'hmm_inf', 'hmm_wave']  \n",
    "results = {}\n",
    "\n",
    "pattern = r\"^(beat\\d+)|([^\\d]+)\"\n",
    "files = os.listdir(test_dir)\n",
    "for fn in files:\n",
    "    log_loss = []\n",
    "    type = extract_prefix(fn, pattern)\n",
    "    x = np.loadtxt(os.path.join(test_dir, fn))\n",
    "    x = x[:,1:] # remove time column\n",
    "\n",
    "    y = q_model.predict(x)\n",
    "    for m in model_name:\n",
    "        model = HMM(n_hidden=n_hidden_states, n_obs=n_clusters, verbose=False)\n",
    "        model.load(filepath=f'{model_path}{m}.json')\n",
    "        log_loss.append(model.predict(y))\n",
    "                        \n",
    "    results[fn] = log_loss"
   ]
  },
  {
   "cell_type": "code",
   "execution_count": 8,
   "metadata": {},
   "outputs": [
    {
     "data": {
      "text/plain": [
       "{'circle31.txt': [-5285.248467791619,\n",
       "  -3692.729480671605,\n",
       "  -233.20570070540225,\n",
       "  -11568.187821202006,\n",
       "  -11568.187821202006,\n",
       "  -11568.187821202006],\n",
       " 'beat3_31.txt': [-526.7971705886984,\n",
       "  -764.7980122945303,\n",
       "  -12450.459589257785,\n",
       "  -6876.539848993832,\n",
       "  -11522.776624889731,\n",
       "  -6408.0567261040105],\n",
       " 'inf31.txt': [-7214.001575112213,\n",
       "  -8533.431762502509,\n",
       "  -14629.21362424254,\n",
       "  -3606.5779007096935,\n",
       "  -551.5849858110192,\n",
       "  -9909.444106972069],\n",
       " 'beat4_31.txt': [-1660.593467886958,\n",
       "  -766.3292184788799,\n",
       "  -13521.889015969406,\n",
       "  -13870.323738384723,\n",
       "  -6141.987382377855,\n",
       "  -7894.353832883502],\n",
       " 'eight31.txt': [-7551.250290195274,\n",
       "  -7928.065715852421,\n",
       "  -10978.726021395534,\n",
       "  -602.7805358537229,\n",
       "  -3324.7213016509545,\n",
       "  -6643.393489883381]}"
      ]
     },
     "execution_count": 8,
     "metadata": {},
     "output_type": "execute_result"
    }
   ],
   "source": [
    "results"
   ]
  },
  {
   "cell_type": "code",
   "execution_count": 9,
   "metadata": {},
   "outputs": [
    {
     "name": "stdout",
     "output_type": "stream",
     "text": [
      "circle31.txt: hmm_circle\n",
      "beat3_31.txt: hmm_beat3\n",
      "inf31.txt: hmm_inf\n",
      "beat4_31.txt: hmm_beat4\n",
      "eight31.txt: hmm_eight\n"
     ]
    }
   ],
   "source": [
    "for k,v in results.items():\n",
    "    print(f'{k}: {model_name[np.argmax(v)]}')"
   ]
  }
 ],
 "metadata": {
  "kernelspec": {
   "display_name": "Python 3 (ipykernel)",
   "language": "python",
   "name": "python3"
  },
  "language_info": {
   "codemirror_mode": {
    "name": "ipython",
    "version": 3
   },
   "file_extension": ".py",
   "mimetype": "text/x-python",
   "name": "python",
   "nbconvert_exporter": "python",
   "pygments_lexer": "ipython3",
   "version": "3.10.13"
  },
  "orig_nbformat": 4
 },
 "nbformat": 4,
 "nbformat_minor": 2
}
